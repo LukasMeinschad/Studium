{
 "cells": [
  {
   "cell_type": "code",
   "execution_count": 3,
   "metadata": {},
   "outputs": [
    {
     "ename": "ImportError",
     "evalue": "cannot import name 'random' from 'scipy' (/opt/anaconda3/lib/python3.11/site-packages/scipy/__init__.py)",
     "output_type": "error",
     "traceback": [
      "\u001b[0;31m---------------------------------------------------------------------------\u001b[0m",
      "\u001b[0;31mImportError\u001b[0m                               Traceback (most recent call last)",
      "Cell \u001b[0;32mIn[3], line 2\u001b[0m\n\u001b[1;32m      1\u001b[0m \u001b[38;5;66;03m# importing the modules \u001b[39;00m\n\u001b[0;32m----> 2\u001b[0m \u001b[38;5;28;01mfrom\u001b[39;00m \u001b[38;5;21;01mscipy\u001b[39;00m \u001b[38;5;28;01mimport\u001b[39;00m random \n\u001b[1;32m      3\u001b[0m \u001b[38;5;28;01mimport\u001b[39;00m \u001b[38;5;21;01mnumpy\u001b[39;00m \u001b[38;5;28;01mas\u001b[39;00m \u001b[38;5;21;01mnp\u001b[39;00m \n\u001b[1;32m      4\u001b[0m \u001b[38;5;28;01mimport\u001b[39;00m \u001b[38;5;21;01mmatplotlib\u001b[39;00m\u001b[38;5;21;01m.\u001b[39;00m\u001b[38;5;21;01mpyplot\u001b[39;00m \u001b[38;5;28;01mas\u001b[39;00m \u001b[38;5;21;01mplt\u001b[39;00m \n",
      "\u001b[0;31mImportError\u001b[0m: cannot import name 'random' from 'scipy' (/opt/anaconda3/lib/python3.11/site-packages/scipy/__init__.py)"
     ]
    }
   ],
   "source": [
    "# importing the modules \n",
    "from scipy import random \n",
    "import numpy as np \n",
    "import matplotlib.pyplot as plt \n",
    "  \n",
    "# limits of integration \n",
    "a = 0\n",
    "b = np.pi # gets the value of pi \n",
    "N = 1000\n",
    "  \n",
    "# function to calculate the sin of a particular  \n",
    "# value of x \n",
    "def f(x): \n",
    "    return np.sin(x) \n",
    "  \n",
    "# list to store all the values for plotting  \n",
    "plt_vals = [] \n",
    "  \n",
    "# we iterate through all the values to generate  \n",
    "# multiple results and show whose intensity is  \n",
    "# the most. \n",
    "for i in range(N): \n",
    "    \n",
    "    #array of zeros of length N \n",
    "    ar = np.zeros(N) \n",
    "  \n",
    "    # iterating over each Value of ar and filling it \n",
    "    # with a random value between the limits a and b \n",
    "    for i in range (len(ar)): \n",
    "        ar[i] = random.uniform(a,b) \n",
    "  \n",
    "    # variable to store sum of the functions of different \n",
    "    # values of x \n",
    "    integral = 0.0\n",
    "  \n",
    "    # iterates and sums up values of different functions  \n",
    "    # of x \n",
    "    for i in ar: \n",
    "        integral += f(i) \n",
    "  \n",
    "    # we get the answer by the formula derived adobe \n",
    "    ans = (b-a)/float(N)*integral \n",
    "  \n",
    "    # appends the solution to a list for plotting the graph \n",
    "    plt_vals.append(ans) \n",
    "  \n",
    "# details of the plot to be generated \n",
    "# sets the title of the plot  \n",
    "plt.title(\"Distributions of areas calculated\") \n",
    "  \n",
    "# 3 parameters (array on which histogram needs  \n",
    "plt.hist (plt_vals, bins=30, ec=\"black\")  \n",
    "  \n",
    "# to be made, bins, separators colour between the \n",
    "# beams) \n",
    "# sets the label of the x-axis of the plot \n",
    "plt.xlabel(\"Areas\") \n",
    "plt.show() # shows the plot"
   ]
  }
 ],
 "metadata": {
  "kernelspec": {
   "display_name": "base",
   "language": "python",
   "name": "python3"
  },
  "language_info": {
   "codemirror_mode": {
    "name": "ipython",
    "version": 3
   },
   "file_extension": ".py",
   "mimetype": "text/x-python",
   "name": "python",
   "nbconvert_exporter": "python",
   "pygments_lexer": "ipython3",
   "version": "3.11.7"
  }
 },
 "nbformat": 4,
 "nbformat_minor": 2
}
