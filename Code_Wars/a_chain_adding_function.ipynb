{
 "cells": [
  {
   "cell_type": "markdown",
   "metadata": {},
   "source": [
    "# A chain adding function\n",
    "\n",
    "We want to create a function that will add numbers together when called in succession.\n",
    "\n",
    "add(1)(2) equals three\n",
    "\n",
    "add(1)(2)(3) # 6\n",
    "add(1)(2)(3)(4); # 10\n",
    "add(1)(2)(3)(4)(5) # 15\n",
    "\n",
    "add(1)(2)(3) # 6\n",
    "add(1)(2)(3)(4); # 10\n",
    "add(1)(2)(3)(4)(5) # 15"
   ]
  },
  {
   "cell_type": "markdown",
   "metadata": {},
   "source": [
    "For this we use __call__ in python\n",
    "\n",
    "x(arg1,arg2,...) can be written as x.__call__(arg1, arg2)"
   ]
  },
  {
   "cell_type": "markdown",
   "metadata": {},
   "source": [
    "class Example:\n",
    "    def __init__(self):\n",
    "        print(\"Instance Created\")\n",
    "    \n",
    "    # Defining __call__ method\n",
    "    def __call__(self):\n",
    "        print(\"Instance is called via special method\")\n",
    "\n",
    "# Instance created\n",
    "e = Example()\n",
    "\n",
    "# __call__ method will be called\n",
    "e()"
   ]
  },
  {
   "cell_type": "code",
   "execution_count": null,
   "metadata": {},
   "outputs": [
    {
     "data": {
      "text/plain": [
       "3"
      ]
     },
     "execution_count": 3,
     "metadata": {},
     "output_type": "execute_result"
    }
   ],
   "source": [
    "# For this chain adding we add chains together\n",
    "\n",
    "# For this we need a kind of successive function evaluation\n",
    "\n",
    "class CustomInt(int):\n",
    "    # make a subclass of the integer\n",
    "    # use the call function for a evaluation\n",
    "    def __call__(self, v):\n",
    "        return CustomInt(self + v)\n",
    "\n",
    "def add(n):\n",
    "    return CustomInt(n)\n",
    "\n",
    "add(1)(2)"
   ]
  }
 ],
 "metadata": {
  "kernelspec": {
   "display_name": "base",
   "language": "python",
   "name": "python3"
  },
  "language_info": {
   "codemirror_mode": {
    "name": "ipython",
    "version": 3
   },
   "file_extension": ".py",
   "mimetype": "text/x-python",
   "name": "python",
   "nbconvert_exporter": "python",
   "pygments_lexer": "ipython3",
   "version": "3.11.7"
  }
 },
 "nbformat": 4,
 "nbformat_minor": 2
}
