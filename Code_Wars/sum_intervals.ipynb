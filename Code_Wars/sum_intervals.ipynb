{
 "cells": [
  {
   "cell_type": "markdown",
   "metadata": {},
   "source": [
    "# Overlapping intervals\n",
    "\n",
    "\n",
    "Write a function called sumIntervals/sum_intervals that accepts an array of intervals, and returns the sum of all the interval lengths. Overlapping intervals should only be counted once.\n",
    "\n",
    "Intervals\n",
    "Intervals are represented by a pair of integers in the form of an array. The first value of the interval will always be less than the second value. Interval example: [1, 5] is an interval from 1 to 5. The length of this interval is 4.\n",
    "\n",
    "Overlapping Intervals\n",
    "List containing overlapping intervals:\n",
    "\n",
    "[\n",
    "   [1, 4],\n",
    "   [7, 10],\n",
    "   [3, 5]\n",
    "]\n",
    "\n",
    "sumIntervals( [\n",
    "   [1, 2],\n",
    "   [6, 10],\n",
    "   [11, 15]\n",
    "] ) => 9\n",
    "\n",
    "sumIntervals( [\n",
    "   [1, 4],\n",
    "   [7, 10],\n",
    "   [3, 5]\n",
    "] ) => 7\n",
    "\n",
    "sumIntervals( [\n",
    "   [1, 5],\n",
    "   [10, 20],\n",
    "   [1, 6],\n",
    "   [16, 19],\n",
    "   [5, 11]\n",
    "] ) => 19\n",
    "\n",
    "sumIntervals( [\n",
    "   [0, 20],\n",
    "   [-100000000, 10],\n",
    "   [30, 40]\n",
    "] ) => 100000030"
   ]
  },
  {
   "cell_type": "code",
   "execution_count": null,
   "metadata": {},
   "outputs": [
    {
     "data": {
      "text/plain": [
       "7"
      ]
     },
     "execution_count": 8,
     "metadata": {},
     "output_type": "execute_result"
    }
   ],
   "source": [
    "import pandas as pd\n",
    "\n",
    "def sum_of_intervals(intervals):\n",
    "    \n",
    "    # first of we merge the overlapping intervals end then compute the length\n",
    "    n = len(intervals)\n",
    "    intervals.sort()\n",
    "\n",
    "    res = []\n",
    "\n",
    "    for i in range(n):\n",
    "        # extract start and end index\n",
    "        start = intervals[i][0]\n",
    "        end = intervals[i][1]\n",
    "\n",
    "        # and we need to skip already checked intervals\n",
    "\n",
    "        if res and res[-1][1] >= end:\n",
    "            continue\n",
    "\n",
    "        for j in range(i+1, n):\n",
    "            # now check the next intervals\n",
    "            if intervals[j][0] <= end:\n",
    "                end = max(end,intervals[j][1])\n",
    "        res.append([start,end])\n",
    "\n",
    "    length = 0 \n",
    "    for intv in res:\n",
    "        iv = pd.Interval(intv[0],intv[1],closed=\"both\")\n",
    "        length += iv.length\n",
    "    return length\n",
    "    \n",
    "sum_of_intervals([[1, 4],[7, 10],[3, 5]])"
   ]
  }
 ],
 "metadata": {
  "kernelspec": {
   "display_name": "base",
   "language": "python",
   "name": "python3"
  },
  "language_info": {
   "codemirror_mode": {
    "name": "ipython",
    "version": 3
   },
   "file_extension": ".py",
   "mimetype": "text/x-python",
   "name": "python",
   "nbconvert_exporter": "python",
   "pygments_lexer": "ipython3",
   "version": "3.11.7"
  }
 },
 "nbformat": 4,
 "nbformat_minor": 2
}
