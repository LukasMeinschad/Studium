{
 "cells": [
  {
   "cell_type": "markdown",
   "metadata": {},
   "source": [
    "# Introduction\n",
    "\n",
    "### Supervised Learning\n",
    "\n",
    "\n",
    "The dataset is the collection of lableded examples $\\{ (x_i,y_i)\\}^N_{i=1}$ where each Element $x$ is a feature vector. Each value $x^{(j)}$ is then called a feature, for example for person x, the height (1), weight (2) and so on\n",
    "\n",
    "$y$ is the label and is normally an element of a finite set of classes $\\{1,2...C\\}$ For example email messages has two classes: $\\{spam, not_spam\\}$\n",
    "\n",
    "> Supervised learning builds a model that takes a feature vector x as input and outputs information that allows to deduce the label of the feature vector\n",
    "\n"
   ]
  },
  {
   "cell_type": "markdown",
   "metadata": {},
   "source": [
    "### Unsupervised Learning\n",
    "\n",
    "We here have a dataset of unlabeled examples $\\{x_i\\}^N_{i=1}$ where again $x$ is a feature vector and the goal is to create a model that takes $x$ as an input and transforms it so another vector. Example is clustering or dimensionality reduction, where fewer features of $x$ are discovered\n",
    "\n",
    "\n",
    "### Semi-supervised Learing\n",
    "\n",
    "Here both labeled and unlabeled examples are contained. The goal is the same as the goal of the supervise learning, these unlabeled examples are training data which should allow for a better reflection of the probability distribution."
   ]
  },
  {
   "cell_type": "markdown",
   "metadata": {},
   "source": [
    "### How Supervised Learning Works\n",
    "\n",
    "The process starts with the data gethering. The data is a collection of pairs (input,output), where input can be anything, like email, messages, pictures, or sensor measurements. Outputs are real numbers or labels. The output are numbers or labels and can be grouped into a feature vectors\n",
    "\n",
    "For example the email can be converted into a bag of words:\n",
    "\n",
    "+ the first feature is 1 if the message contains the word \"a\" otherwise 0\n",
    "+ the second feature is 1 if the message contains \"aaron\" otherwise 0\n",
    "+ and so on\n",
    "\n",
    "We now have machine readable input data. As an illustration consider the Support Vector Machine (SVM) where the \"spam\" has +1 and \"not_spam\" has -1\n",
    "\n",
    "This SVM model puts all features in a 20.000 dimensional plot and draws an imaginary 19.999-dimensional line that seperates the example. The boundary seperating examples is called the **decision boundary** \n",
    "\n",
    "Given the equation of the hyperplane $wx - b = 0$"
   ]
  }
 ],
 "metadata": {
  "language_info": {
   "name": "python"
  }
 },
 "nbformat": 4,
 "nbformat_minor": 2
}
