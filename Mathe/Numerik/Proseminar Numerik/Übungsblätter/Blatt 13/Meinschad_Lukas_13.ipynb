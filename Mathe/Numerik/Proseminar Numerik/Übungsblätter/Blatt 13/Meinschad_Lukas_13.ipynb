{
 "cells": [
  {
   "cell_type": "markdown",
   "metadata": {},
   "source": [
    "# Aufgabe 1\n",
    "\n",
    "Implementieren Sie die LU -Zerlegung für Tridiagonal-Matrizen aus Aufgabe (3)(a) in Python und testen Sie Ihre Funktion an der Tridiagonalmatrix mit $bi = ci+1 = −i$ für $i = 1 ...,n −1$ und $ai = 4$\n",
    "für alle $i = 1,...,n, n = 8$"
   ]
  },
  {
   "cell_type": "code",
   "execution_count": 8,
   "metadata": {},
   "outputs": [],
   "source": [
    "import numpy as np \n",
    "import matplotlib.pyplot as plt "
   ]
  },
  {
   "cell_type": "code",
   "execution_count": 9,
   "metadata": {},
   "outputs": [
    {
     "name": "stdout",
     "output_type": "stream",
     "text": [
      "[[ 4. -1.  0.  0.  0.  0.  0.  0.]\n",
      " [-1.  4. -2.  0.  0.  0.  0.  0.]\n",
      " [ 0. -2.  4. -3.  0.  0.  0.  0.]\n",
      " [ 0.  0. -3.  4. -4.  0.  0.  0.]\n",
      " [ 0.  0.  0. -4.  4. -5.  0.  0.]\n",
      " [ 0.  0.  0.  0. -5.  4. -6.  0.]\n",
      " [ 0.  0.  0.  0.  0. -6.  4. -7.]\n",
      " [ 0.  0.  0.  0.  0.  0. -7.  4.]]\n"
     ]
    }
   ],
   "source": [
    "# Make the Tridiagonal Matrix for Testing\n",
    "\n",
    "def create_tridiagonal_matrix(n):\n",
    "    a = 4 * np.ones(n)\n",
    "    b = -np.arange(1, n)\n",
    "    c = -np.arange(1, n)\n",
    "    \n",
    "    matrix = np.zeros((n, n))\n",
    "    \n",
    "    for i in range(n):\n",
    "        # a on the diagonal\n",
    "        matrix[i, i] = a[i]\n",
    "        if i > 0:\n",
    "            # b on the lower diagonal\n",
    "            matrix[i, i-1] = b[i-1]\n",
    "        if i < n-1:\n",
    "            # c on the upper diagonal\n",
    "            matrix[i, i+1] = c[i]\n",
    "    \n",
    "    return matrix\n",
    "\n",
    "n = 8\n",
    "T = create_tridiagonal_matrix(n)\n",
    "print(T)\n"
   ]
  },
  {
   "cell_type": "markdown",
   "metadata": {},
   "source": [
    "Goal is to calculate the matrix equation $Ax = b$. For this we decompose A into\n",
    "\n",
    "$PA = LU$ where $L$ is a lower triangular matrix and $U$ is a upper triagonal matrix, $P$ is the permutation matrix"
   ]
  },
  {
   "cell_type": "markdown",
   "metadata": {},
   "source": [
    "### Use Aufgabe 3 as an Algorithm\n",
    "\n",
    "So assume the Tridiagonal Matrix $T$ has a $LU$ Decompositon then\n",
    "\n",
    "\n",
    "$L = \\begin{pmatrix}1 & 0 & ...  & 0 \\\\\n",
    "                    \\gamma_1 & 1 & 0 & ... \\\\\n",
    "                    0 & \\gamma_3 & 1 & ... \\\\ \\end{pmatrix}$\n",
    "\n",
    "and \n",
    "\n",
    "$U = \\begin{pmatrix} \\alpha_1 & \\beta_1 & 0 & ... & 0 \\\\\n",
    "                    0 & \\alpha_2 & \\beta_2 & ... & 0 \\\\\n",
    "                    0 & ... & ... &  \\beta_{n-1} \\\\\n",
    "                    0 & ... & ... & ... & \\alpha_n \\\\ \\end{pmatrix}$\n",
    "\n",
    "we can recursivly calculate these coefficients\n",
    "\n",
    "$\\alpha_1 = a_1$\n",
    "\n",
    "$\\gamma_i = \\frac{c_1}{\\alpha_{i-1}}, \\alpha_i = a_i - \\gamma_i \\beta_{i-1}, \\beta_{i-1} = b_{i-1}$ for $i = 2...n$"
   ]
  },
  {
   "cell_type": "code",
   "execution_count": 10,
   "metadata": {},
   "outputs": [
    {
     "data": {
      "text/plain": [
       "(array([4., 4., 4., 4., 4., 4., 4., 4.]),\n",
       " array([-1., -2., -3., -4., -5., -6., -7.]),\n",
       " array([-1., -2., -3., -4., -5., -6., -7.]))"
      ]
     },
     "execution_count": 10,
     "metadata": {},
     "output_type": "execute_result"
    }
   ],
   "source": [
    "# Small helper function\n",
    "def extract_tridiagonal_elements(T):\n",
    "    n = T.shape[0]\n",
    "    a = np.diag(T)\n",
    "    b = np.diag(T, k = 1)\n",
    "    c = np.diag(T, k=-1)\n",
    "    return a,b,c\n",
    "\n",
    "extract_tridiagonal_elements(T)"
   ]
  },
  {
   "cell_type": "code",
   "execution_count": 11,
   "metadata": {},
   "outputs": [],
   "source": [
    "def lu_decomposition_tridiagonal(T):\n",
    "    a,b,c = extract_tridiagonal_elements(T)\n",
    "    n = len(a)\n",
    "    alpha = np.zeros(n)\n",
    "    beta = np.zeros(n-1)\n",
    "    gamma = np.zeros(n-1)\n",
    "\n",
    "    # Initialize the first alpha vlue\n",
    "    alpha[0] = a[0]\n",
    "    for i in range(1,n):\n",
    "        gamma[i-1] = c[i-1] / alpha[i-1]\n",
    "        alpha[i] = a[i] - gamma[i-1] * b[i-1]\n",
    "        beta[i-1] = b[i-1]\n",
    "    # Then we can create the L and U matrices\n",
    "    L = np.eye(n)\n",
    "    U = np.zeros((n,n))\n",
    "    for i in range(n):\n",
    "        U[i,i] = alpha[i]\n",
    "        if i < n-1:\n",
    "            L[i+1,i] = gamma[i]\n",
    "            U[i,i+1] = beta[i]\n",
    "    return L,U"
   ]
  },
  {
   "cell_type": "code",
   "execution_count": 12,
   "metadata": {},
   "outputs": [
    {
     "name": "stdout",
     "output_type": "stream",
     "text": [
      "[[ 1.          0.          0.          0.          0.          0.\n",
      "   0.          0.        ]\n",
      " [-0.25        1.          0.          0.          0.          0.\n",
      "   0.          0.        ]\n",
      " [ 0.         -0.53333333  1.          0.          0.          0.\n",
      "   0.          0.        ]\n",
      " [ 0.          0.         -1.02272727  1.          0.          0.\n",
      "   0.          0.        ]\n",
      " [ 0.          0.          0.         -4.29268293  1.          0.\n",
      "   0.          0.        ]\n",
      " [ 0.          0.          0.          0.          0.37962963  1.\n",
      "   0.          0.        ]\n",
      " [ 0.          0.          0.          0.          0.         -1.01726845\n",
      "   1.          0.        ]\n",
      " [ 0.          0.          0.          0.          0.          0.\n",
      "   3.32761194  1.        ]]\n",
      "[[  4.          -1.           0.           0.           0.\n",
      "    0.           0.           0.        ]\n",
      " [  0.           3.75        -2.           0.           0.\n",
      "    0.           0.           0.        ]\n",
      " [  0.           0.           2.93333333  -3.           0.\n",
      "    0.           0.           0.        ]\n",
      " [  0.           0.           0.           0.93181818  -4.\n",
      "    0.           0.           0.        ]\n",
      " [  0.           0.           0.           0.         -13.17073171\n",
      "   -5.           0.           0.        ]\n",
      " [  0.           0.           0.           0.           0.\n",
      "    5.89814815  -6.           0.        ]\n",
      " [  0.           0.           0.           0.           0.\n",
      "    0.          -2.10361068  -7.        ]\n",
      " [  0.           0.           0.           0.           0.\n",
      "    0.           0.          27.29328358]]\n"
     ]
    }
   ],
   "source": [
    "# Perform LU decomposition using the custom function\n",
    "L, U = lu_decomposition_tridiagonal(T)\n",
    "\n",
    "print(L)\n",
    "print(U)\n",
    "\n"
   ]
  },
  {
   "cell_type": "code",
   "execution_count": 13,
   "metadata": {},
   "outputs": [
    {
     "name": "stdout",
     "output_type": "stream",
     "text": [
      "[[ 4. -1.  0.  0.  0.  0.  0.  0.]\n",
      " [-1.  4. -2.  0.  0.  0.  0.  0.]\n",
      " [ 0. -2.  4. -3.  0.  0.  0.  0.]\n",
      " [ 0.  0. -3.  4. -4.  0.  0.  0.]\n",
      " [ 0.  0.  0. -4.  4. -5.  0.  0.]\n",
      " [ 0.  0.  0.  0. -5.  4. -6.  0.]\n",
      " [ 0.  0.  0.  0.  0. -6.  4. -7.]\n",
      " [ 0.  0.  0.  0.  0.  0. -7.  4.]]\n"
     ]
    },
    {
     "data": {
      "text/plain": [
       "True"
      ]
     },
     "execution_count": 13,
     "metadata": {},
     "output_type": "execute_result"
    }
   ],
   "source": [
    "# Check if we get the right matrix\n",
    "\n",
    "LU = L @ U\n",
    "print(LU)\n",
    "\n",
    "np.allclose(T,LU)"
   ]
  },
  {
   "cell_type": "markdown",
   "metadata": {},
   "source": [
    "# Aufgabe 2\n",
    "\n"
   ]
  },
  {
   "cell_type": "code",
   "execution_count": 14,
   "metadata": {},
   "outputs": [
    {
     "name": "stdout",
     "output_type": "stream",
     "text": [
      "Anzahl der Additionen: 12\n",
      "Anzahl der Multiplikationen: 24\n"
     ]
    }
   ],
   "source": [
    "def count_operations(n, m, k):\n",
    "    additions = 0\n",
    "    multiplications = 0\n",
    "\n",
    "    # Matrix C has n Rows and M collumns \n",
    "    for i in range(n):\n",
    "        for j in range(k):\n",
    "            # Each element of C gets calculates with the scalar product\n",
    "            for l in range(m):\n",
    "                multiplications += 1  # One Multiplikation with each element\n",
    "                if l < m - 1:\n",
    "                    additions += 1  # m-1 Addditions\n",
    "\n",
    "    return additions, multiplications\n",
    "\n",
    "\n",
    "n = 3\n",
    "m = 2\n",
    "k = 4\n",
    "\n",
    "additions, multiplications = count_operations(n, m, k)\n",
    "print(f\"Anzahl der Additionen: {additions}\")\n",
    "print(f\"Anzahl der Multiplikationen: {multiplications}\")"
   ]
  }
 ],
 "metadata": {
  "kernelspec": {
   "display_name": "base",
   "language": "python",
   "name": "python3"
  },
  "language_info": {
   "codemirror_mode": {
    "name": "ipython",
    "version": 3
   },
   "file_extension": ".py",
   "mimetype": "text/x-python",
   "name": "python",
   "nbconvert_exporter": "python",
   "pygments_lexer": "ipython3",
   "version": "3.11.7"
  }
 },
 "nbformat": 4,
 "nbformat_minor": 2
}
