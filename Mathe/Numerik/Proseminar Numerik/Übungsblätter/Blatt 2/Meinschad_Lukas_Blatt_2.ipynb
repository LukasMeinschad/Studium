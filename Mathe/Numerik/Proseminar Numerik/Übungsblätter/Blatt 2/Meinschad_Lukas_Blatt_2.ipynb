{
 "cells": [
  {
   "cell_type": "markdown",
   "metadata": {},
   "source": [
    "\n",
    "# Programmieraufgaben\n",
    "\n",
    "## Teilaufgabe a)\n",
    "\n",
    "Implementieren Sie die linke Rechtecksregel, die Mittelpunktsregel und die Simpson-Regel in Python.\n",
    "Übergeben Sie dazu eine Funktion, sowie Start- und Endpunkt des Integrationsintervalls und die\n",
    "Anzahl der Teilintervalle. Rückgabewert ist die Näherung ans Integral.\n",
    "\n",
    "Hierzu betrachten wir die Quadraturformel\n",
    "\n",
    "$\\int_{0}^{1}g(\\tau)d \\tau \\approx \\sum_{i=1}^s b_ig(c_i)$\n",
    "\n",
    "Allgemein gilt für die Rechtecksregeln $s=1$\n",
    "\n",
    "+ Linke Rechtecksregel $b_1 =1$, c_1 = 0$\n",
    "+ Mittelpunktsregel $b_1 = 1, c_1  = \\frac{1}{2}\n",
    "\n",
    "Für die Trapezregel ist $s = 2$\n",
    "\n",
    "+ $b_1 = b_2 = \\frac{1}{2}, c_1 = 0, c_2 = 1$\n",
    "\n",
    "Und für die Simpson Regel $s = 3$\n",
    "\n",
    "+ $b_1 = \\frac{1}{6}, b_2 = \\frac{2}{3}, c_1 = 0 , c_2 = \\frac{1}{2}, c_3=1$"
   ]
  },
  {
   "cell_type": "markdown",
   "metadata": {},
   "source": [
    "Grundsätzlich muss man sich noch über die Rücktransformation gedanken machen\n",
    "\n",
    "hier ist $h_j = x_{j+1} - x_j$\n",
    "\n",
    "$\\int_{a}{b} f(x)dx = \\sum_{j=0}^{N-1}\\int_{x_j}^{x_{j+1}} f(x)dx \\approx \\sum_{j=0}^{N-1}h_j \\sum_{i=1}^{s}b_if(x_j + c_ih_j)$"
   ]
  },
  {
   "cell_type": "code",
   "execution_count": 1,
   "metadata": {},
   "outputs": [],
   "source": [
    "import numpy as np \n",
    "import matplotlib.pyplot as plt"
   ]
  },
  {
   "cell_type": "code",
   "execution_count": 2,
   "metadata": {},
   "outputs": [
    {
     "name": "stdout",
     "output_type": "stream",
     "text": [
      "Ergebnis der linken Rechtecksregel:  0.15188387414930815\n",
      "Ergebnis der Mittelpunktsregel:  0.1515628366416064\n",
      "Ergebnis der Simpson-Regel:  0.15156283651453484\n"
     ]
    }
   ],
   "source": [
    "# define the function\n",
    "\n",
    "def f(x):\n",
    "    return np.cos(x)*np.exp(np.sin(x))\n",
    "\n",
    "\n",
    "def linke_rechtecksregel(f,a,b,N):\n",
    "    # Zuerst berechnen wir h und splitten das Integrationsintervall in N Teile\n",
    "    # Dazu verwenden wir numpy.linspace was ein Intervall in N teile aufteilt\n",
    "    x_vals = np.linspace(a,b,N)\n",
    "    \n",
    "    # nun ist für die linke Rechtecksregel\n",
    "    b1 = 1\n",
    "    c1 = 0\n",
    "    \n",
    "    # Wir verwenden numpy.diff um uns die n-th diskreten Differenzen von h zu berechnen\n",
    "    # out[i] = a[i+1] - a[i] das Funktioniert rekursiv\n",
    "    h_vals = np.diff(x_vals)\n",
    "\n",
    "    interval_results = []\n",
    "    for j in range(0,N-1):\n",
    "        result = h_vals[j] * b1*f(x_vals[j])\n",
    "        interval_results.append(result)\n",
    "    \n",
    "    # Final result is the sum over all the intervalls\n",
    "    return np.sum(interval_results)\n",
    "    \n",
    "def mittelpunktsregel(f,a,b,N):\n",
    "    x_vals = np.linspace(a,b,N)\n",
    "    b1 = 1\n",
    "    c1 = 0.5\n",
    "    h_vals = np.diff(x_vals)\n",
    "    interval_result = []\n",
    "    for j in range(0,N-1):\n",
    "        result = h_vals[j]*b1*f(x_vals[j]+c1*h_vals[j])\n",
    "        interval_result.append(result)\n",
    "    return np.sum(interval_result)\n",
    "\n",
    "def simpsonregel(f,a,b,N):\n",
    "    x_vals = np.linspace(a,b,N)\n",
    "    bi = [1/6, 2/3, 1/6]\n",
    "    ci = [0, 1/2, 1]\n",
    "    h_vals = np.diff(x_vals)\n",
    "    interval_result = []\n",
    "    for j in range(0,N-1):\n",
    "        first_sum = []\n",
    "        for i in range(0,3):\n",
    "            result= bi[i] * f(x_vals[j]+ci[i]*h_vals[j])\n",
    "            first_sum.append(result)\n",
    "        interval_result.append((h_vals[j]*np.sum(first_sum)))\n",
    "        \n",
    "        #interval_result.append(result)\n",
    "    return np.sum(interval_result)\n",
    "\n",
    "print(\"Ergebnis der linken Rechtecksregel: \",linke_rechtecksregel(f,0,3,10000))\n",
    "print(\"Ergebnis der Mittelpunktsregel: \", mittelpunktsregel(f,0,3,10000))\n",
    "print(\"Ergebnis der Simpson-Regel: \",simpsonregel(f,0,3,10000))\n"
   ]
  },
  {
   "cell_type": "markdown",
   "metadata": {},
   "source": [
    "## Teilaufgabe 2)\n",
    "\n",
    "Variieren Sie N und erstellen Sie ein Genauigkeit-Aufwandsdiagramm (vgl. Abb. 1.3 im Skript) für\n",
    "Aufgabe (1)\n",
    "\n",
    "Wir berechnen also zuerst den Analytischen Wert unseres integrals dies ist durch folgende Stammfunktion gegeben:\n",
    "\n",
    "$\\int cos(x)e^{sin(x)}dx = e^{sin(x)} + C$\n",
    "\n",
    "damit $e^{sin(3)} - 1$\n",
    "\n",
    "Dann plotten wir jeweils den Absolutbetrag des Fehlers und $fe = s*N$ den rechenaufwand"
   ]
  },
  {
   "cell_type": "code",
   "execution_count": 3,
   "metadata": {},
   "outputs": [
    {
     "name": "stdout",
     "output_type": "stream",
     "text": [
      "0.15156283651453495\n"
     ]
    },
    {
     "data": {
      "image/png": "[encoded data removed]",
      "text/plain": [
       "<Figure size 640x480 with 1 Axes>"
      ]
     },
     "metadata": {},
     "output_type": "display_data"
    }
   ],
   "source": [
    "analytical_value = np.exp(np.sin(3)) - 1\n",
    "\n",
    "print(analytical_value)\n",
    "\n",
    "# Nehme nun N values\n",
    "n_vals = np.array([10, 100, 1000, 10000, 100000])\n",
    "\n",
    "# Leere Listen um die Error werte zu appenden\n",
    "\n",
    "# Nun erstellen wir uns 1D arrays um unsere Werte zu speichern\n",
    "\n",
    "error_lr = np.zeros(len(n_vals))\n",
    "error_mr = np.zeros(len(n_vals))\n",
    "error_sr = np.zeros(len(n_vals))\n",
    "for i in range(0,len(n_vals)):\n",
    "    error_lr[i] = abs(linke_rechtecksregel(f,0,3,n_vals[i]) - analytical_value)\n",
    "    error_mr[i] = abs(mittelpunktsregel(f,0,3,n_vals[i]) - analytical_value)\n",
    "    error_sr[i] = abs(simpsonregel(f,0,3,n_vals[i])-analytical_value)\n",
    "    \n",
    "# nun polotten wir die in den gleichen graphen\n",
    "plt.plot(error_lr,n_vals, color =\"red\",label =\"error_lr\")\n",
    "plt.plot(error_mr,n_vals, color =\"blue\",label =\"error_mr\")\n",
    "plt.plot(error_sr, 3*n_vals, color=\"green\", label=\"error_sr\")\n",
    "\n",
    "# Zudem hat man in matplotlib mit xscale und yscale gleich die Option automatisch die Achsen zu skalierne\n",
    "\n",
    "plt.xscale(\"log\")\n",
    "plt.yscale(\"log\")\n",
    "\n",
    "plt.legend()\n",
    "plt.show()\n"
   ]
  }
 ],
 "metadata": {
  "kernelspec": {
   "display_name": "base",
   "language": "python",
   "name": "python3"
  },
  "language_info": {
   "codemirror_mode": {
    "name": "ipython",
    "version": 3
   },
   "file_extension": ".py",
   "mimetype": "text/x-python",
   "name": "python",
   "nbconvert_exporter": "python",
   "pygments_lexer": "ipython3",
   "version": "undefined.undefined.undefined"
  }
 },
 "nbformat": 4,
 "nbformat_minor": 2
}
