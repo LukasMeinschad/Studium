{
 "cells": [
  {
   "cell_type": "markdown",
   "metadata": {},
   "source": [
    "# Aufgabe 1\n",
    "\n",
    "\n",
    " Berechnen Sie mithilfe des Algorithmus der dividierten Differenzen sowie des Horner-Schemas\n",
    "den Wert sin(62◦) aus den Datenpunkten\n",
    "\n",
    "\n",
    "(50◦, sin 50◦), (55◦, sin 55◦), (60◦, sin 60◦), (70◦, sin 70◦).\n",
    "Speichern Sie hierbei neben der oberen Diagonale [y0, δy0, . . . , δn y0] auch die untere Diagonale\n",
    "[δ0yn = yn , δ1yn−1, . . . , δn y0]\n",
    "\n",
    "\n",
    "\n",
    "\n"
   ]
  },
  {
   "cell_type": "code",
   "execution_count": 1,
   "metadata": {},
   "outputs": [],
   "source": [
    "import numpy as np\n",
    "import pandas as pd\n",
    "import matplotlib.pyplot as plt\n",
    "import math"
   ]
  },
  {
   "cell_type": "code",
   "execution_count": 2,
   "metadata": {},
   "outputs": [],
   "source": [
    "# Calculate all the values for x and y and convert from angles to radiants\n",
    "\n",
    "\n",
    "x_degree = np.array([50,55,60,70])\n",
    "\n",
    "x = (np.pi / 180) * x_degree\n",
    "\n",
    "y = np.sin(x)"
   ]
  },
  {
   "cell_type": "code",
   "execution_count": 3,
   "metadata": {},
   "outputs": [
    {
     "name": "stdout",
     "output_type": "stream",
     "text": [
      "Full dividing differences table\n",
      "[[ 0.76604444  0.60856828 -0.40931616 -0.08631976]\n",
      " [ 0.81915204  0.53712913 -0.43944744  0.        ]\n",
      " [ 0.8660254   0.42208206  0.          0.        ]\n",
      " [ 0.93969262  0.          0.          0.        ]]\n",
      "Top Row Elements\n",
      "[0.766044443118978, 0.6085682814211631, -0.40931616313550856, -0.08631976192962809]\n",
      "Lower diagonal Elements\n",
      "[0.9396926207859083, 0.4220820622658598, -0.43944744423970183, -0.08631976192962809]\n"
     ]
    }
   ],
   "source": [
    "def divided_diff_diagonal(x, y):\n",
    "    '''\n",
    "    Function to calculate the divided differences table\n",
    "    and extract the upper and lower diagonals\n",
    "    '''\n",
    "    n = len(y)\n",
    "    coef = np.zeros([n, n])\n",
    "    \n",
    "    #\n",
    "    coef[:, 0] = y\n",
    "    \n",
    "    # Lists to store the diagonals\n",
    "    upper_diagonal = [y[0]]  # Starts with y0\n",
    "    lower_diagonal = [y[-1]]  # Starts with yn\n",
    "    \n",
    "    for j in range(1, n):\n",
    "        for i in range(n - j):\n",
    "            coef[i][j] = (coef[i+1][j-1] - coef[i][j-1]) / (x[i+j] - x[i])\n",
    "        \n",
    "        \n",
    "        # We then \n",
    "        upper_diagonal.append(coef[0][j])  # Upper diagonal: elements from the top\n",
    "        lower_diagonal.append(coef[n-j-1][j])  # Lower diagonal: elements from the bottom\n",
    "    \n",
    "    return coef, upper_diagonal, lower_diagonal\n",
    "\n",
    "# This is then t\n",
    "print(\"Full dividing differences table\")\n",
    "print(divided_diff_diagonal(x,y)[0])\n",
    "print(\"Top Row Elements\")\n",
    "print(divided_diff_diagonal(x,y)[1])\n",
    "print(\"Lower diagonal Elements\")\n",
    "print(divided_diff_diagonal(x,y)[2])\n",
    "\n"
   ]
  },
  {
   "cell_type": "code",
   "execution_count": 4,
   "metadata": {},
   "outputs": [],
   "source": [
    "\n",
    "def horner(coef, x_data, x):\n",
    "    \"\"\"\n",
    "    Implementation of the Horneer scheme for polynomial evaluation\n",
    "    Here coeff is our dividing differences table we get,\n",
    "\n",
    "\n",
    "    Short explanation:\n",
    "    we start with len(coeff) - 2 because the polynomial gets evaluated at the highest degree\n",
    "    -1 is the stop condition meaning we stop at i=0 with our polynomial evaluation\n",
    "    the last -1 tells the loop to go down -1 with each iteration\n",
    "    \"\"\"\n",
    "    result = coef[-1]\n",
    "    for i in range(len(coef) - 2, -1, -1):\n",
    "        result = result * (x - x_data[i]) + coef[i]\n",
    "    return result\n",
    "\n",
    "\n",
    "\n"
   ]
  },
  {
   "cell_type": "code",
   "execution_count": 5,
   "metadata": {},
   "outputs": [
    {
     "name": "stdout",
     "output_type": "stream",
     "text": [
      "-------------------------------------------------\n",
      "Approximated with 4 data points: 0.8829520604036581\n",
      "Actual sin value: 0.8829475928589269\n",
      "Error: -4.467544731268092e-06\n",
      "-------------------------------------------------\n"
     ]
    }
   ],
   "source": [
    "# Now we extract both slices from this dividing differences table for the horner scheme\n",
    "\n",
    "_, div_top, lower_diag = divided_diff_diagonal(x,y)\n",
    "\n",
    "\n",
    "\n",
    "sin_approx_v1 = horner(div_top,x, 62*np.pi/180)\n",
    "print(\"-------------------------------------------------\")\n",
    "print(\"Approximated with 4 data points:\", sin_approx_v1)\n",
    "print(\"Actual sin value:\", np.sin(62*np.pi/180))\n",
    "print(\"Error:\", (np.sin(62*np.pi/180)) - sin_approx_v1 )\n",
    "print(\"-------------------------------------------------\")\n"
   ]
  },
  {
   "cell_type": "markdown",
   "metadata": {},
   "source": [
    "### Small Note here:\n",
    "\n",
    "I used the numpy insert method, this is somewhat a debatable approach when combining it with jupyter type scripts, because the insert goes of each time you run the cell, this can mess things up"
   ]
  },
  {
   "cell_type": "code",
   "execution_count": 6,
   "metadata": {},
   "outputs": [
    {
     "name": "stdout",
     "output_type": "stream",
     "text": [
      "-------------------------------------------------\n",
      "Approximated with 5 data points: 0.882947565950376\n",
      "Actual sin value: 0.8829475928589269\n",
      "Error: 2.690855083198329e-08\n",
      "-------------------------------------------------\n"
     ]
    }
   ],
   "source": [
    "\n",
    "# Add new data point (65°, sin(65°))\n",
    "new_x = 65\n",
    "new_y = np.sin(np.radians(new_x))\n",
    "\n",
    "# Append the new data point\n",
    "x = np.array([50,55,60,70,65]) * np.pi/180\n",
    "\n",
    "lower_diag = np.array(lower_diag)\n",
    " \n",
    "\n",
    "# Insert the new value\n",
    "lower_diag = np.insert(lower_diag,0, np.sin(65*np.pi/180)) \n",
    "\n",
    "\n",
    "# Now do the dividing differences with this additional value\n",
    "\n",
    "n = len(lower_diag)\n",
    "k = len(x) - 1\n",
    "\n",
    "for j in range(n-1):\n",
    "    lower_diag[j +1] = (lower_diag[j] - lower_diag[j+1])/(x[k]-x[k-(j+1)])\n",
    "\n",
    "\n",
    "\n",
    "\n",
    "div_top = np.append(div_top, lower_diag[n-1])\n",
    "\n",
    "sin_approx_v2 = horner(div_top,x, 62 * np.pi/180)\n",
    "\n",
    "print(\"-------------------------------------------------\")\n",
    "print(\"Approximated with 5 data points:\", sin_approx_v2)\n",
    "print(\"Actual sin value:\", np.sin(62*np.pi/180))\n",
    "print(\"Error:\", (np.sin(62*np.pi/180)) - sin_approx_v2 )\n",
    "print(\"-------------------------------------------------\")\n"
   ]
  },
  {
   "cell_type": "markdown",
   "metadata": {},
   "source": [
    "## Aufgabe 2\n",
    "\n",
    "Berechnen Sie für verschiedene n die Lebesgue’schen Konstanten für äquidistante Stützstellen\n",
    "\n",
    "$x_k = −1 + 2k$\n",
    "\n",
    "n und Chebyshev-Punkte. Verwenden Sie den Algorithmus aus Aufgabe 5, um das\n",
    "Maximum auf $[xk ,xk+1]$ zu bestimmen"
   ]
  },
  {
   "cell_type": "markdown",
   "metadata": {},
   "source": [
    "## Die Lebesqueschen Konstanten\n",
    "\n",
    "$\\Lambda_n = \\max_{\\alpha \\leq x \\leq \\beta} \\sum_{i=0}^n |l_i(x)|$\n",
    "\n",
    "Man hat hierbei Stützstellen $x_0 ... x_n$\n",
    "\n",
    "Gegeben haben wir zei Typen von Stützstellen:\n",
    "\n",
    "+ Äquidistant $x_k = -1 + \\frac{2k}{n}$\n",
    "+ Chebyschev Punkte $x_k = cos(\\frac{(2k+1)\\pi}{2(n+1)})$"
   ]
  },
  {
   "cell_type": "code",
   "execution_count": 7,
   "metadata": {},
   "outputs": [],
   "source": [
    "# Define the golden ratio constant\n",
    "\n",
    "gamma = (np.sqrt(5)-1)/2\n",
    "\n",
    "# Next define our two types of points\n",
    "\n",
    "def equi_points(n):\n",
    "    return np.linspace(-1,1,n+1)\n",
    "\n",
    "def cheby_points(n):\n",
    "    return np.cos((2*np.arange(n+1)+ 1)* np.pi / (2*(n+1)))\n",
    "\n",
    "\n",
    "# next we need to define our lagrangian basis polynomials\n",
    "\n",
    "def lagrange_basis(x,k,xk):\n",
    "    \"\"\"\n",
    "    Function that calculates a k-th lagrange basis polynomial on a point x\n",
    "    \"\"\"\n",
    "    n = len(xk)-1\n",
    "    Lk =1\n",
    "    for j in range(n+1):\n",
    "        if j != k:\n",
    "            Lk *= (x-xk[j]) / (xk[k]-xk[j])\n",
    "    return Lk\n",
    "\n",
    "# Then we define our lebesque function\n",
    "\n",
    "def lebesque(x,xk):\n",
    "    n = len(xk)-1\n",
    "    return sum(abs(lagrange_basis(x,k,xk)) for k in range(n+1))\n",
    "\n",
    "# Lastly we define our golden section search algorithm from 5)\n",
    "\n",
    "def golden_section_search(f,a,b,tol=1e-8):\n",
    "    \"\"\" \n",
    "    Carries out the golden section search algorithm using a pre defined tolerance\n",
    "    \"\"\"\n",
    "    A = b-gamma * (b-a)\n",
    "    B = a+gamma *(b-a)\n",
    "\n",
    "    while (b-a) > tol:\n",
    "        if f(A) < f(B):\n",
    "            a = A\n",
    "            A = B\n",
    "            B = a + gamma*(b-a)\n",
    "        else:\n",
    "            b = B\n",
    "            B = A\n",
    "            A = b-gamma*(b-a)\n",
    "    return (a+b)/2 # approximation of maximum as a return"
   ]
  },
  {
   "cell_type": "code",
   "execution_count": 8,
   "metadata": {},
   "outputs": [
    {
     "name": "stdout",
     "output_type": "stream",
     "text": [
      "----------------------------------------------------\n",
      "Lebesque constant for the equidistant points: 1.0\n",
      "Lebesque constant for cheby points: 1.0\n",
      "-------------------------------------------------\n",
      "----------------------------------------------------\n",
      "Lebesque constant for the equidistant points: 1.25\n",
      "Lebesque constant for cheby points: 1.2500000000000002\n",
      "-------------------------------------------------\n",
      "----------------------------------------------------\n",
      "Lebesque constant for the equidistant points: 1.6311303094408989\n",
      "Lebesque constant for cheby points: 1.4267766952966368\n",
      "-------------------------------------------------\n",
      "----------------------------------------------------\n",
      "Lebesque constant for the equidistant points: 2.207824397325843\n",
      "Lebesque constant for cheby points: 1.561169610234237\n",
      "-------------------------------------------------\n",
      "----------------------------------------------------\n",
      "Lebesque constant for the equidistant points: 3.106301159367827\n",
      "Lebesque constant for cheby points: 1.6699050951297432\n",
      "-------------------------------------------------\n",
      "----------------------------------------------------\n",
      "Lebesque constant for the equidistant points: 4.549341786178122\n",
      "Lebesque constant for cheby points: 1.763997509702172\n",
      "-------------------------------------------------\n",
      "----------------------------------------------------\n",
      "Lebesque constant for the equidistant points: 6.929739656126463\n",
      "Lebesque constant for cheby points: 1.8477590650225724\n",
      "-------------------------------------------------\n",
      "----------------------------------------------------\n",
      "Lebesque constant for the equidistant points: 10.945645516934034\n",
      "Lebesque constant for cheby points: 1.9221578442118223\n",
      "-------------------------------------------------\n",
      "----------------------------------------------------\n",
      "Lebesque constant for the equidistant points: 17.848612704786042\n",
      "Lebesque constant for cheby points: 1.9888543819998308\n",
      "-------------------------------------------------\n"
     ]
    }
   ],
   "source": [
    "# Calculation of the Lebesque Consant\n",
    "\n",
    "def lebesque_constant(xk):\n",
    "    max_lebesque = 0 # initialize the constant\n",
    "    for i in range(len(xk)-1):\n",
    "        \n",
    "        f = lambda x: lebesque(x ,xk)\n",
    "        max_val = golden_section_search(f,xk[i],xk[i+1])\n",
    "        max_lebesque = max(max_lebesque, lebesque(max_val,xk))\n",
    "    return max_lebesque\n",
    "\n",
    "# Then lets compute\n",
    "\n",
    "for n in range(1,10):\n",
    "    print(\"----------------------------------------------------\")\n",
    "    equidistant_points = equi_points(n)\n",
    "    lebesque_equidistance = lebesque_constant(equidistant_points)\n",
    "    print(f\"Lebesque constant for the equidistant points: {lebesque_equidistance}\")\n",
    "\n",
    "    chebychev_points = cheby_points(n)\n",
    "    lebesque_cheby = lebesque_constant(chebychev_points)\n",
    "    print(f\"Lebesque constant for cheby points: {lebesque_cheby}\")\n",
    "    print(\"-------------------------------------------------\")\n",
    " "
   ]
  },
  {
   "cell_type": "markdown",
   "metadata": {},
   "source": [
    "# Pseudocode für Aufgabe 3\n",
    "\n",
    "Wir betrachten also die Neville Interpolation\n",
    "\n",
    "nun wollen wir einen Algorithmus mit wlechem der Wert $P_[0,n](x_s)$ des gesuchten Interpolationspolynoms $P_[0,n]$ an einer Stelle $x_s$ mit der obigen Rekursion berechnet"
   ]
  },
  {
   "cell_type": "code",
   "execution_count": 9,
   "metadata": {},
   "outputs": [
    {
     "ename": "SyntaxError",
     "evalue": "invalid syntax (1125004056.py, line 1)",
     "output_type": "error",
     "traceback": [
      "\u001b[0;36m  Cell \u001b[0;32mIn[9], line 1\u001b[0;36m\u001b[0m\n\u001b[0;31m    function Rekursive_Interpolation (x,y,xs,n):\u001b[0m\n\u001b[0m             ^\u001b[0m\n\u001b[0;31mSyntaxError\u001b[0m\u001b[0;31m:\u001b[0m invalid syntax\n"
     ]
    }
   ],
   "source": [
    "function Rekursive_Interpolation (x,y,xs,n):\n",
    "    # x: Array of x-Values of Nodes\n",
    "    # y: Array of y-values of Nodes\n",
    "    # xs: The value we want to interpolate\n",
    "    # n: the degree of our interpolation polynomial\n",
    "\n",
    "    # Initialize the vector\n",
    "    P = [0]*[n+1] # this is a vector with n+1 components\n",
    "    \n",
    "    # First initialize all the y values\n",
    "    for i in range(n+1):\n",
    "        P[i] = y[i]\n",
    "\n",
    "    # now calculate the interpolation\n",
    "    for m in range(1, n+1):\n",
    "        for k in range(n-m,-1,-1):\n",
    "            P[k] = ((xs - x[k])*P[k+1]-(xs - x[k+m])*P[k])/(x[k+m]-x[k])\n",
    "    return P[0] # final value"
   ]
  }
 ],
 "metadata": {
  "kernelspec": {
   "display_name": "base",
   "language": "python",
   "name": "python3"
  },
  "language_info": {
   "codemirror_mode": {
    "name": "ipython",
    "version": 3
   },
   "file_extension": ".py",
   "mimetype": "text/x-python",
   "name": "python",
   "nbconvert_exporter": "python",
   "pygments_lexer": "ipython3",
   "version": "3.11.7"
  }
 },
 "nbformat": 4,
 "nbformat_minor": 2
}
