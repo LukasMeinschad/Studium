{
 "cells": [
  {
   "cell_type": "markdown",
   "metadata": {},
   "source": [
    "# Systems of Linear equation\n",
    "\n",
    "The goal of this chapter is to numerically solve systems of linear equations, given in matrix form by\n",
    "\n",
    "\n",
    "\n",
    "$Ax = \\begin{pmatrix}a_{11} & ... & a_{1n} \\\\ a_{n1} & ... & a_{nn} \\end{pmatrix}\\begin{pmatrix} x_1 \\\\ ... \\\\ x_n \\end{pmatrix} = \\begin{pmatrix} b_1 \\\\ ... \\\\ b_n \\end{pmatrix} = b$"
   ]
  },
  {
   "cell_type": "markdown",
   "metadata": {},
   "source": [
    "## Theorem 4.3\n",
    "\n",
    "Let A be a $n \\times n$ matrix with $det(A) \\neq 0. Then there exists a permutation matrix $P$, a lower triangular matrix $L$ and a upper triangular matrix $U$\n",
    "\n",
    "$L = \\begin{pmatrix} 1 & 0 & ... & 0 \\\\ * & 1 & ... & 0 \\\\ * & * & ... & 0 \\end{pmatrix}$\n",
    "\n",
    "$U = \\begin{pmatrix} d_1 & * & ... & * \\\\ 0 & d_2 & ...& * \\\\ 0 & 0 & ... & * \\end{pmatrix}$\n",
    "\n",
    "Mit $PA=LU$ diese Zerlegung heißt "
   ]
  },
  {
   "cell_type": "code",
   "execution_count": 32,
   "metadata": {},
   "outputs": [],
   "source": [
    "# Implementation of the LU Decomposiiton\n",
    "\n",
    "import numpy as np\n",
    "from scipy.linalg import lu\n",
    "\n",
    "def lu_decomposition(A):\n",
    "    \"\"\"\n",
    "    Performs the LU decomposition with column pivoting.\n",
    "\n",
    "    Args:\n",
    "        A (numpy.ndarray): A square matrix\n",
    "    Returns:\n",
    "        P (numpy.ndarray): Permutation matrix for column pivoting\n",
    "        L (numpy.ndarray): Lower triangular matrix\n",
    "        U (numpy.ndarray): Upper triangular matrix\n",
    "    \"\"\"\n",
    "\n",
    "    n = A.shape[0]\n",
    "    #Remember np.eye makes identiy matrix\n",
    "    P = np.eye(n)\n",
    "    # Zeros_Like makes same array as A\n",
    "    L = np.zeros_like(A)\n",
    "    U = A.copy()\n",
    "\n",
    "    for i in range(n):\n",
    "        pivot = np.argmax(np.abs(U[i:,i])) + i\n",
    "        \n",
    "        # If now Pivot not equal to i swap rows in U and Permutation matrix\n",
    "        if pivot != i:\n",
    "            U[[i,pivot],:] = U[[pivot,i],:] # Swap rows of U\n",
    "            P[[i,pivot],:] = P[[pivot,i],:] # Swap rows of P\n",
    "            if i > 0:\n",
    "                L[[i,pivot], :i] = L[[pivot,i], :i]\n",
    "        for j in range(i+1,n):\n",
    "            # If i = 0, n = 3 --> j = 1,2 (stop not included)\n",
    "            L[j,i] = U[j,i] / U[i,i] # Multiplier\n",
    "            U[j,i:] = U[j,i:] - L[j,i]*U[i,i:] # Gaussian\n",
    "    \n",
    "    np.fill_diagonal(L,1)\n",
    "\n",
    "    return P,L,U\n",
    "\n",
    "A = np.array([[0,1,3],[6,-2,4],[-3,-3,-2]],dtype=float)\n",
    "\n",
    "P,L,U  = lu_decomposition(A)\n",
    "\n",
    "# Use for Comparison\n",
    "P_np,L_np,U_np = lu(A)\n",
    "\n",
    "\n",
    "\n"
   ]
  },
  {
   "cell_type": "markdown",
   "metadata": {},
   "source": [
    "## Cholesky Zerlegung\n",
    "\n",
    "Man benötigt eine reelle, symmetrische positiv definity Matrix A (spd-Matrix)\n",
    "\n",
    "+ reell: Die Koeffizienten von $A$ sind reelle Zahlen\n",
    "+ symmetrisch: $A = A^T$\n",
    "+ positiv definit: Für alle $x \\neq 0$ gilt $x^T A x >0$\n"
   ]
  },
  {
   "cell_type": "markdown",
   "metadata": {},
   "source": [
    "### Theorem 4.5 (Existenz der Cholesky Zerlegung)\n",
    "\n",
    "Es sei $A$ eine $n \\times n$ spd-Matrix. Dann hat $A$ eine Zerlegung\n",
    "\n",
    "$A = CC^T = \\begin{pmatrix}c_{11} & 0 & 0 & ... & 0 \\\\ c_{21} & c_{22} & 0 & ... & 0 \\\\ c_{31} & c_{32} & c_{33} & ... & 0 \\\\ ... & ... & ...& c_{nn} \\end{pmatrix} * C^T$\n",
    "\n",
    "Man nennt dann $C$ den eindeutigen Cholesky Faktor"
   ]
  },
  {
   "cell_type": "markdown",
   "metadata": {},
   "source": [
    "Für die Implementierung kann man folgende Berechnungmethode verwenden:\n",
    "\n",
    "+ Diagonale $l_{kk} = \\sqrt{a_kk - \\sum_{j=1}^{k-1}l_{kj^2}}$\n",
    "+ Off-Diagonals $l_{ik} = \\frac{1}{l_{kk}}(a_{ik}-\\sum_{j=1}^{k-1}l_{ij}l_{kj})$ for $i > k$"
   ]
  },
  {
   "cell_type": "code",
   "execution_count": 33,
   "metadata": {},
   "outputs": [
    {
     "name": "stdout",
     "output_type": "stream",
     "text": [
      "[[ 2.44948974  0.          0.          0.        ]\n",
      " [ 1.22474487  2.12132034  0.          0.        ]\n",
      " [ 1.63299316  1.41421356  2.30940108  0.        ]\n",
      " [ 3.26598632 -1.41421356  1.58771324  3.13249102]]\n",
      "[[ 6.  3.  4.  8.]\n",
      " [ 3.  6.  5.  1.]\n",
      " [ 4.  5. 10.  7.]\n",
      " [ 8.  1.  7. 25.]]\n"
     ]
    }
   ],
   "source": [
    "import numpy as np\n",
    "\n",
    "def cholesky(A):\n",
    "    \"\"\" \n",
    "    Performs the Cholesky decomposition of the matrix A, which must be symmetric and positive definite\n",
    "    \"\"\"\n",
    "\n",
    "    n = len(A)\n",
    "    C = np.zeros((n,n))\n",
    "    for i in range(n):\n",
    "        for k in range(i +1):\n",
    "            #print(i,k)\n",
    "            # Calculate the dot product\n",
    "            tmp_sum = np.dot(C[i, :k], C[k,:k])\n",
    "            if i == k: # Diagonal Elements\n",
    "                value = A[i,i] - tmp_sum\n",
    "                if value <= 0:\n",
    "                    raise np.linalg.LinAlgError(\"Matrix not positive definite\")\n",
    "                C[i,k] = np.sqrt(value)\n",
    "            else:\n",
    "                C[i,k] = (A[i,k]-tmp_sum)/C[k,k]\n",
    "\n",
    "    return C \n",
    "\n",
    "A = np.array([[6, 3, 4, 8], \n",
    "              [3, 6, 5, 1], \n",
    "              [4, 5, 10, 7], \n",
    "              [8, 1, 7, 25]])\n",
    "\n",
    "C = cholesky(A)\n",
    "\n",
    "print(C)\n",
    "\n",
    "# Calculate the Original Matrix\n",
    "\n",
    "print(C@C.T)"
   ]
  },
  {
   "cell_type": "markdown",
   "metadata": {},
   "source": [
    "## Konditions and Stability and Matrix Norm\n",
    "\n",
    "### Theorem 4.7 (Matrixnormen, siehe Minkowski Ungleichung)\n",
    "\n",
    "Sei $A$ eine $m \\times n$ Matrix. Dann ist:\n",
    "\n",
    "+ $||A||_1 = \\max_{1 \\leq j \\leq n}(\\sum_{i = 1}^m |a_{ij}|)$ (maximale Spaltenbetragssumme)\n",
    "+ $||A||_\\infty = \\max_{1 \\leq i \\leq m}(\\sum_{j = 1}^n |a_{ij}|)$ (maximale Zeilenbetragssumme)\n",
    "+ $||A||_2 = \\sqrt{größter ~ Eigenwert ~ von ~ A^T A}$\n",
    "\n"
   ]
  },
  {
   "cell_type": "code",
   "execution_count": 34,
   "metadata": {},
   "outputs": [
    {
     "name": "stdout",
     "output_type": "stream",
     "text": [
      "9\n",
      "11\n",
      "8.443758555334131\n"
     ]
    }
   ],
   "source": [
    "import numpy as np\n",
    "\n",
    "A = np.array([[1,-3,7],[-4,6,1]])\n",
    "\n",
    "def norm_1(A):\n",
    "    return np.max(np.sum(np.abs(A), axis=0))\n",
    "\n",
    "def norm_inf(A):\n",
    "    return np.max(np.sum(np.abs(A),axis = 1))\n",
    "\n",
    "def norm_2(A):\n",
    "    eigenvalues = np.linalg.eigvals(A.T @ A)\n",
    "    return np.sqrt(np.max(eigenvalues))\n",
    "\n",
    "print(norm_1(A))\n",
    "print(norm_inf(A))\n",
    "print(norm_2(A))\n",
    "\n"
   ]
  },
  {
   "cell_type": "markdown",
   "metadata": {},
   "source": [
    "# Kondition einer Matrix\n",
    "\n",
    "Die Kondition einer Matrix ist gegeben durch $\\kappa(A):=||A||\\cdot ||A^{-1}||$ und hängt von der jeweiligen Norm ab"
   ]
  },
  {
   "cell_type": "markdown",
   "metadata": {},
   "source": [
    "### Matrizen mit großen Konditionen\n",
    "\n",
    "Betrachte die Hilbert matrix $H_n = [\\frac{1}{i+j-1}]^n_{i,j=1}$ und die Vandermonde Matrix"
   ]
  },
  {
   "cell_type": "code",
   "execution_count": 35,
   "metadata": {},
   "outputs": [
    {
     "name": "stdout",
     "output_type": "stream",
     "text": [
      "[[1.         0.5        0.33333333 0.25      ]\n",
      " [0.5        0.33333333 0.25       0.2       ]\n",
      " [0.33333333 0.25       0.2        0.16666667]\n",
      " [0.25       0.2        0.16666667 0.14285714]]\n",
      "Condition of Hilber (n=3):  748.0000000000027\n"
     ]
    }
   ],
   "source": [
    "import numpy as np\n",
    "from scipy.linalg import hilbert\n",
    "def hilbert_matrix(n):\n",
    "    H = np.zeros((n,n))\n",
    "    for i in range(1,n+1):\n",
    "        for j in range(1,n+1):\n",
    "            H[i-1,j-1] = 1/(i + j - 1)\n",
    "    return H\n",
    "\n",
    "print(hilbert_matrix(4))\n",
    "#print(hilbert(3))\n",
    "\n",
    "# Calculate the Inverse\n",
    "H_3 = hilbert_matrix(3) \n",
    "H_inv = np.linalg.inv(H_3)\n",
    "\n",
    "print(\"Condition of Hilber (n=3): \", (norm_1(H_3)*norm_1(H_inv))) #nice\n",
    "\n"
   ]
  },
  {
   "cell_type": "markdown",
   "metadata": {},
   "source": [
    "# Aufgaben\n",
    "\n",
    "hier noch die Fehlenden Aufgaben aus dem Skript"
   ]
  },
  {
   "cell_type": "markdown",
   "metadata": {},
   "source": [
    "## Aufgabe 21\n",
    "\n",
    "Sei $v=[1,...1]^T \\in \\mathbb{R}^{15}$ und H die Hilbert Matrix für $n=15$. Berechnen sie $b = Hv$ und anschließend $Hx=b$. Vergleichen sie die exakte Lösung von v mit der numerischen Lösung und berehcnen sie die Defekte von x\n",
    "\n"
   ]
  },
  {
   "cell_type": "markdown",
   "metadata": {},
   "source": [
    "Als Information zum Defekt\n",
    "\n",
    "Sei $\\hat{x}$ die Numerische Lösung von $Ax = b$. Man nennt $d = b - A \\hat{x}$ den Defekt oder Residuum"
   ]
  },
  {
   "cell_type": "code",
   "execution_count": 36,
   "metadata": {},
   "outputs": [
    {
     "name": "stdout",
     "output_type": "stream",
     "text": [
      "[3.31822899 2.38072899 1.93955252 1.66177474 1.46440632 1.31440632\n",
      " 1.1953587  1.09795611 1.01643437 0.94698992 0.88698992 0.83454237\n",
      " 0.78824608 0.74703728 0.71009147]\n",
      "[3.31822899 2.38072899 1.93955252 1.66177474 1.46440632 1.31440632\n",
      " 1.1953587  1.09795611 1.01643437 0.94698992 0.88698992 0.83454237\n",
      " 0.78824608 0.74703728 0.71009147]\n",
      "[ 0.00000000e+00 -4.44089210e-16  0.00000000e+00  0.00000000e+00\n",
      "  0.00000000e+00  2.22044605e-16 -2.22044605e-16  0.00000000e+00\n",
      "  0.00000000e+00  1.11022302e-16  0.00000000e+00 -2.22044605e-16\n",
      " -2.22044605e-16 -2.22044605e-16  0.00000000e+00]\n"
     ]
    }
   ],
   "source": [
    "import numpy as np\n",
    "\n",
    "v = np.ones(15)\n",
    "\n",
    "H = hilbert_matrix(15)\n",
    "\n",
    "\n",
    "# Calculation of B\n",
    "b = H @ v\n",
    "\n",
    "# Numerical Solution\n",
    "\n",
    "x = np.linalg.solve(H,b)\n",
    "\n",
    "# now we calculate d = b - A(hatx)\n",
    "\n",
    "d = b - H@x\n",
    "print(b)\n",
    "print(H@x)\n",
    "print(d)"
   ]
  },
  {
   "cell_type": "markdown",
   "metadata": {},
   "source": [
    "Man sieht hier die Lösungen die Defekte sind in der Größenordnung der Maschinengenauigkeit eps"
   ]
  },
  {
   "cell_type": "markdown",
   "metadata": {},
   "source": [
    "## Aufgabe 22\n",
    "\n",
    "Sei $v = [1,...1]^T \\in \\mathbb{R}^{50}$ und $W$ die Wilkinson Matrix der Dimension 50\n",
    "\n",
    "+ Berechnen Sie $b=Wv$\n",
    "+ Lösen sie $Wx =b$ und bestimmen sie Fehler und Defekte\n",
    "+ Verbessen sie die numerische Lösung durch eine Nachiteration"
   ]
  },
  {
   "cell_type": "markdown",
   "metadata": {},
   "source": [
    "### Defekt und Nachiteration\n",
    "\n",
    "Sei $\\hat{x}$ numerische Lösung von $Ax = b$ dann ist $d = b - A \\hat{x}$ der Defekt es gilt $d = Ax - A\\hat{x} = A \\Delta x$\n",
    "\n",
    "Man kann nun mit $\\tilde{x}:= \\hat{x} + \\hat{\\Delta x}$ die Lösung verbessern durch Lösen von $A \\Delta x = d$"
   ]
  },
  {
   "cell_type": "code",
   "execution_count": 37,
   "metadata": {},
   "outputs": [
    {
     "name": "stdout",
     "output_type": "stream",
     "text": [
      "[1. 1. 1. 1. 1. 1. 1. 1. 1. 1. 1. 1. 1. 1. 1. 1. 1. 1. 1. 1. 1. 1. 1. 1.\n",
      " 1. 1. 1. 1. 1. 1. 1. 1. 1. 1. 1. 1. 1. 1. 1. 1. 1. 1. 1. 1. 1. 1. 1. 1.\n",
      " 1. 1.]\n"
     ]
    }
   ],
   "source": [
    "def wilkinson(n):\n",
    "    W = np.diag(np.ones(n))\n",
    "    lower_diag_indices = np.tril_indices(W.shape[0],k=-1)\n",
    "    W[lower_diag_indices] = -1\n",
    "    W[:,-1] = 1\n",
    "    return W\n",
    "\n",
    "W = wilkinson(50)\n",
    "v = np.ones(50)\n",
    "\n",
    "b = W@v\n",
    "x = np.linalg.solve(W,b)\n",
    "d = b- W@x\n",
    "\n",
    "x_delta_hat = np.linalg.solve(W,d)\n",
    "x_nachiteration = x + x_delta_hat\n",
    "print(x_nachiteration)\n"
   ]
  },
  {
   "cell_type": "markdown",
   "metadata": {},
   "source": [
    "# Numerical Stability of the LU-Decomposition\n",
    "\n",
    "We make the analysis regarding the backwards stability, so a numerical result $\\tilde{x}$ can be considered a exact result of perturbed data $\\tilde{x} = P(\\tilde{y})$, and $\\frac{|\\tilde{y_i} - y_i|}{|y_i|} \\leq C \\cdot eps$\n",
    "\n",
    "\n",
    "\n",
    "### Theorem of Wilkinson\n",
    "\n",
    "Let $\\tilde{L},\\tilde{U}$ be the numerical result of a LU decomposition of $A$ with pivoting $|\\tilde{l_{ij}}|\\leq 1 ~ \\forall i ,j$, then\n",
    "\n",
    "$|a_{ij} - \\tilde{a}_{ij}| \\leq 2 a \\min(i-1,j)\\frac{eps}{1-eps}$ where $a = \\max_{i,j,k}|\\tilde{a}_{ij}^{(k)}|$\n",
    "\n",
    "So $\\tilde{a}_{ij}^{(k)}$ are the entries of the Matrix $\\tilde{A}^{(k)}$ which are intermediate results of the LU Decomposition"
   ]
  },
  {
   "cell_type": "markdown",
   "metadata": {},
   "source": [
    "### Some Conclusions:\n",
    "\n",
    "The LU-Decomposition is numerical stable in regards to the backwards analysis if $\\beta := \\frac{\\max_{i,j,k}|\\tilde{a}_{ij}^{(k)}|}{\\max{i,j}|a_{ij}|}$ is not to big, then one has $|a_{ij} - \\tilde{a}_{ij}| \\leq 2 \\beta \\max_{ij}|a_{ij}| n \\frac{eps}{1-eps}$\n",
    "\n",
    "\n",
    "If one now uses Pivoting when decomposing $A$ one can proof the upper bound $\\beta \\leq 2^{n-1}$. For this one uses the following special Wilkinson Matrix\n",
    "\n",
    "$W_n = \\begin{pmatrix} 1 & 0 & ... & ...& 0 & 1 \\\\ -1 & 1 & 0 & ... & 0 & 1 \\\\ -1 & -1 & 1 & ... & 0 & 1 \\\\ ... & ... & ... & ... & ... & ... & \\\\ -1 & -1 & -1 & ... & -1 & 1 \\end{pmatrix}$\n",
    "\n"
   ]
  },
  {
   "cell_type": "code",
   "execution_count": 38,
   "metadata": {},
   "outputs": [
    {
     "name": "stdout",
     "output_type": "stream",
     "text": [
      "Calculated Beta,  524288.0\n",
      "Beta given by bound,  524288\n"
     ]
    }
   ],
   "source": [
    "import numpy as np\n",
    "\n",
    "\n",
    "# First of we have to adapt our Algorithm of the LU Decomposition fo find the maximum values in each step\n",
    "\n",
    "\n",
    "def lu_decomposition_with_beta(A):\n",
    "    \"\"\"\n",
    "    Performs the LU decomposition with column pivoting and calculates beta values.\n",
    "\n",
    "    Args:\n",
    "        A (numpy.ndarray): A square matrix\n",
    "    Returns:\n",
    "        P (numpy.ndarray): Permutation matrix for column pivoting\n",
    "        L (numpy.ndarray): Lower triangular matrix\n",
    "        U (numpy.ndarray): Upper triangular matrix\n",
    "        max_a_ij_k: Calculates the maximum entry in each step \n",
    "    \"\"\"\n",
    "\n",
    "    n = A.shape[0]\n",
    "    P = np.eye(n)\n",
    "    L = np.zeros_like(A)\n",
    "    U = A.copy()\n",
    "    max_a_ij_k = []\n",
    "\n",
    "    for i in range(n):\n",
    "        pivot = np.argmax(np.abs(U[i:, i])) + i\n",
    "        \n",
    "        # If pivot not equal to i, swap rows in U and permutation matrix\n",
    "        if pivot != i:\n",
    "            U[[i, pivot], :] = U[[pivot, i], :]  # Swap rows of U\n",
    "            P[[i, pivot], :] = P[[pivot, i], :]  # Swap rows of P\n",
    "            if i > 0:\n",
    "                L[[i, pivot], :i] = L[[pivot, i], :i]\n",
    "        \n",
    "        # Calculate beta for the current step\n",
    "        max_a_ij = np.max(np.abs(U))\n",
    "        max_a_ij_k.append(max_a_ij)\n",
    "        \n",
    "        for j in range(i + 1, n):\n",
    "            L[j, i] = U[j, i] / U[i, i]  # Multiplier\n",
    "            U[j, i:] = U[j, i:] - L[j, i] * U[i, i:]  # Gaussian\n",
    "    \n",
    "    np.fill_diagonal(L, 1)\n",
    "\n",
    "    return P, L, U, max_a_ij_k\n",
    "\n",
    "def wilkinson(n):\n",
    "    W = np.diag(np.ones(n))\n",
    "    lower_diag_indices = np.tril_indices(W.shape[0],k=-1)\n",
    "    W[lower_diag_indices] = -1\n",
    "    W[:,-1] = 1\n",
    "    return W\n",
    "\n",
    "n = 20\n",
    "\n",
    "W = wilkinson(n)\n",
    "\n",
    "P,L,U,max_a_ij_k =lu_decomposition_with_beta(W)\n",
    "\n",
    "max_a_ij_k = np.max(max_a_ij_k)\n",
    "\n",
    "# Find now the Maximum of the Wilkinson Matrix \n",
    "\n",
    "\n",
    "\n",
    "max_a_ij = W.max()\n",
    "\n",
    "beta = max_a_ij_k / max_a_ij\n",
    "\n",
    "\n",
    "beta_bound = 2**(n-1)\n",
    "print(\"Calculated Beta, \", beta)\n",
    "print(\"Beta given by bound, \", beta_bound)"
   ]
  },
  {
   "cell_type": "markdown",
   "metadata": {},
   "source": [
    "#### A Small Experiment\n",
    "\n",
    "Let $2 \\leq n \\leq 24$. For each n we create about 30 matrices of the typ $n \\times n$ by using random generated values in $[-1,1]$. For each of this we calculate beta. Then we plot the values of beta against n"
   ]
  },
  {
   "cell_type": "code",
   "execution_count": 49,
   "metadata": {},
   "outputs": [
    {
     "name": "stdout",
     "output_type": "stream",
     "text": [
      "(43.39572791617921, 1.747089279328293, 2.817297699740307, 2.8933574340862687, 2.416538104547725, 3.2455328897080777, 2.874468816221565, 4.360317813291422, 3.8179083496696182, 4.68498246937242, 3.962068477716636, 5.7339522407271835, 4.413432423663576, 4.023201083489232, 6.2469954111155035, 5.3750903781065285, 5.51435661762357, 4.898593806770339, 6.998552911667589, 5.529707339427334, 6.8826954295200045, 7.581884276699325, 6.621315308766796)\n"
     ]
    },
    {
     "data": {
      "image/png": "[encoded data removed]",
      "text/plain": [
       "<Figure size 640x480 with 1 Axes>"
      ]
     },
     "metadata": {},
     "output_type": "display_data"
    }
   ],
   "source": [
    "import numpy as np\n",
    "import matplotlib.pyplot as plt\n",
    "\n",
    "\n",
    "def lu_decomposition_with_beta(A):\n",
    "    \"\"\"\n",
    "    Performs the LU decomposition with column pivoting and calculates beta values.\n",
    "\n",
    "    Args:\n",
    "        A (numpy.ndarray): A square matrix\n",
    "    Returns:\n",
    "        P (numpy.ndarray): Permutation matrix for column pivoting\n",
    "        L (numpy.ndarray): Lower triangular matrix\n",
    "        U (numpy.ndarray): Upper triangular matrix\n",
    "        max_a_ij_k: Calculates the maximum entry in each step \n",
    "    \"\"\"\n",
    "\n",
    "    n = A.shape[0]\n",
    "    P = np.eye(n)\n",
    "    L = np.zeros_like(A)\n",
    "    U = A.copy()\n",
    "    max_a_ij_k = []\n",
    "\n",
    "    for i in range(n):\n",
    "        pivot = np.argmax(np.abs(U[i:, i])) + i\n",
    "        \n",
    "        # If pivot not equal to i, swap rows in U and permutation matrix\n",
    "        if pivot != i:\n",
    "            U[[i, pivot], :] = U[[pivot, i], :]  # Swap rows of U\n",
    "            P[[i, pivot], :] = P[[pivot, i], :]  # Swap rows of P\n",
    "            if i > 0:\n",
    "                L[[i, pivot], :i] = L[[pivot, i], :i]\n",
    "        \n",
    "        # Calculate beta for the current step\n",
    "        max_a_ij = np.max(np.abs(U))\n",
    "        max_a_ij_k.append(max_a_ij)\n",
    "        \n",
    "        for j in range(i + 1, n):\n",
    "            L[j, i] = U[j, i] / U[i, i]  # Multiplier\n",
    "            U[j, i:] = U[j, i:] - L[j, i] * U[i, i:]  # Gaussian\n",
    "    \n",
    "    np.fill_diagonal(L, 1)\n",
    "\n",
    "    return P, L, U, max_a_ij_k\n",
    "\n",
    "\n",
    "n_vals = range(2,25)\n",
    "\n",
    "\n",
    "num_matrices = 30\n",
    "\n",
    "\n",
    "beta_vals = []\n",
    "\n",
    "for n in n_vals:\n",
    "    betas_for_n = []\n",
    "    for _ in range(num_matrices):\n",
    "        A = np.random.uniform(-1,1,(n,n))\n",
    "\n",
    "        _, _, _, max_a_ij_k = lu_decomposition_with_beta(A)\n",
    "\n",
    "        max_a_ij_k = np.max(max_a_ij_k)\n",
    "        \n",
    "        beta = max_a_ij_k / A.max()\n",
    "        betas_for_n.append(beta)\n",
    "    beta_vals.append((n,np.max(betas_for_n)))\n",
    "\n",
    "\n",
    "\n",
    "n_values_plot, betas_plot = zip(*beta_vals)\n",
    "print(betas_plot)\n",
    "plt.scatter(n_values_plot,betas_plot)\n",
    "plt.show()\n"
   ]
  }
 ],
 "metadata": {
  "kernelspec": {
   "display_name": "base",
   "language": "python",
   "name": "python3"
  },
  "language_info": {
   "codemirror_mode": {
    "name": "ipython",
    "version": 3
   },
   "file_extension": ".py",
   "mimetype": "text/x-python",
   "name": "python",
   "nbconvert_exporter": "python",
   "pygments_lexer": "ipython3",
   "version": "3.11.7"
  }
 },
 "nbformat": 4,
 "nbformat_minor": 2
}
