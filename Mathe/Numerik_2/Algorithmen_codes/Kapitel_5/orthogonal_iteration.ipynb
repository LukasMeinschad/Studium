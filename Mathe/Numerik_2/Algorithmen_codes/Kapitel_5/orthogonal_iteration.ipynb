{
 "cells": [
  {
   "cell_type": "markdown",
   "id": "307de25c",
   "metadata": {},
   "source": [
    "# Orthogonale Iteration\n",
    "\n",
    "Ziel ist des das Verfahren der Vektoriteration zu erweitern um mehere Eigenwerte gleichzeitig zu bestimmen. Sei $A$ ein $n \\times n$ Matrix mit Eigenwerten $|\\lamda_1$ > ... > |\\lambda_n|$ und normierten Eigenvektoren $v_i$.\n",
    "\n",
    "Sei $y_0$ ein geeigneter Startvektor für die direkte Vektoriteration.\n",
    "\n",
    "\\begin{equation}\n",
    "y_0 = \\sum_{i=1}^n a_i v_i, y_{k+1} = A y_k = \\lambda_1^{k+1})a_1v_1 + O(|\\frac{\\lambda_2}{\\lambda_1}|^{k+1})\n",
    "\\end{equation}\n",
    "\n",
    "Man erhält:\n",
    "\n",
    "\\begin{equation}\n",
    "\\frac{y_k^* y_{k+1}}{y_k^* y_k} \\to \\lambda_1, sign(\\lambda_1)^k \\frac{y_k}{||y_k||} \\to sign(a_1)v_1, k \\to \\infty\n",
    "\\end{equation}\n",
    "\n"
   ]
  },
  {
   "cell_type": "markdown",
   "id": "d2291779",
   "metadata": {},
   "source": [
    "Idee ist nun einen zweiten Startvektor $z_0$ aus dem orthogonalen Komplement von $y_0$ zu wählen ($y^*_0 z_0 =0$). Zusätzlich fordern wir in jeden Schritt $y_k^* z_k = 0$. Dann besitzt $z_k$ keinen Anteil in die $y_k$ Richtung und es besteht die Hoffnung \n",
    "\n",
    "\\begin{equation}\n",
    "\\frac{z_k^*A z_k}{z^*_k z_k} \\to \\lambda_2\n",
    "\\end{equation}\n",
    "\n",
    "Man projeziert $A^k z_0$ auf das Orhtogonale komplement von $y_k$\n",
    "\n",
    "\\begin{equation}\n",
    "y_k = A^k y_0, z_k = A^k z_0 - \\gamma_k y_k, \\gamma_k = \\frac{y_k^* A^k z_0}{y_k^* y_k}\n",
    "\\end{equation}"
   ]
  },
  {
   "cell_type": "markdown",
   "id": "ebee2929",
   "metadata": {},
   "source": []
  },
  {
   "cell_type": "markdown",
   "id": "6f132b24",
   "metadata": {},
   "source": []
  }
 ],
 "metadata": {
  "language_info": {
   "name": "python"
  }
 },
 "nbformat": 4,
 "nbformat_minor": 5
}
