{
 "cells": [
  {
   "cell_type": "markdown",
   "id": "bdf4d194",
   "metadata": {},
   "source": [
    "# Exercise 6\n",
    "\n",
    "We now consider the Differential Equation\n",
    "\n",
    "\\begin{equation}\n",
    "y' = -2000(y-cos(x)) ~ y(0) = 0\n",
    "\\end{equation}\n",
    "\n",
    "on the interval $[0,1.5]$.  Solve this numerically with implicit Euler Method and implicit Midpoint Rule. Was fällt auf?"
   ]
  },
  {
   "cell_type": "markdown",
   "id": "dcf1a322",
   "metadata": {},
   "source": []
  }
 ],
 "metadata": {
  "language_info": {
   "name": "python"
  }
 },
 "nbformat": 4,
 "nbformat_minor": 5
}
